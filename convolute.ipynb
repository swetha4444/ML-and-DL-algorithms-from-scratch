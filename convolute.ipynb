{
 "cells": [
  {
   "cell_type": "code",
   "execution_count": 1,
   "metadata": {},
   "outputs": [],
   "source": [
    "import numpy as np "
   ]
  },
  {
   "cell_type": "code",
   "execution_count": 71,
   "metadata": {},
   "outputs": [],
   "source": [
    "mat1=np.random.randint(10,size=(12,12))"
   ]
  },
  {
   "cell_type": "code",
   "execution_count": 72,
   "metadata": {},
   "outputs": [
    {
     "data": {
      "text/plain": [
       "array([[0, 0, 1],\n",
       "       [1, 0, 1],\n",
       "       [1, 1, 0]])"
      ]
     },
     "execution_count": 72,
     "metadata": {},
     "output_type": "execute_result"
    }
   ],
   "source": [
    "mat2=np.random.randint(2,size=(3,3))\n",
    "mat2"
   ]
  },
  {
   "cell_type": "code",
   "execution_count": 73,
   "metadata": {},
   "outputs": [
    {
     "data": {
      "text/plain": [
       "(array([[6, 7, 2, 4, 4, 6, 1, 3, 7, 3, 4, 6],\n",
       "        [4, 6, 1, 3, 1, 3, 3, 5, 7, 4, 2, 5],\n",
       "        [0, 6, 7, 1, 6, 3, 1, 6, 1, 0, 2, 9],\n",
       "        [5, 2, 5, 4, 3, 3, 8, 1, 2, 1, 1, 4],\n",
       "        [9, 5, 5, 7, 9, 6, 6, 0, 7, 2, 4, 0],\n",
       "        [0, 2, 6, 1, 2, 4, 4, 6, 1, 3, 7, 7],\n",
       "        [0, 0, 3, 3, 9, 7, 5, 3, 0, 5, 9, 3],\n",
       "        [2, 9, 1, 8, 7, 0, 0, 6, 3, 5, 3, 2],\n",
       "        [5, 7, 6, 8, 6, 7, 7, 0, 9, 0, 9, 3],\n",
       "        [4, 0, 5, 4, 8, 4, 6, 0, 5, 5, 0, 3],\n",
       "        [1, 9, 1, 8, 5, 3, 2, 5, 3, 8, 2, 7],\n",
       "        [0, 1, 1, 1, 0, 1, 4, 5, 6, 5, 4, 1]]),\n",
       " array([[0, 0, 1],\n",
       "        [1, 0, 1],\n",
       "        [1, 1, 0]]))"
      ]
     },
     "execution_count": 73,
     "metadata": {},
     "output_type": "execute_result"
    }
   ],
   "source": [
    "mat1,mat2"
   ]
  },
  {
   "cell_type": "code",
   "execution_count": 49,
   "metadata": {},
   "outputs": [],
   "source": [
    "sub_range=[]\n",
    "conv_filter = len(mat2)\n",
    "iter = 0\n",
    "for i in range(len(mat1)):\n",
    "    sub_range.append((iter,iter+conv_filter))\n",
    "    iter += 1"
   ]
  },
  {
   "cell_type": "code",
   "execution_count": 50,
   "metadata": {},
   "outputs": [
    {
     "data": {
      "text/plain": [
       "[(0, 3), (1, 4), (2, 5), (3, 6), (4, 7), (5, 8)]"
      ]
     },
     "execution_count": 50,
     "metadata": {},
     "output_type": "execute_result"
    }
   ],
   "source": [
    "sub_range"
   ]
  },
  {
   "cell_type": "code",
   "execution_count": 51,
   "metadata": {},
   "outputs": [],
   "source": [
    "temp = []\n",
    "for x in sub_range:\n",
    "    if(x[0]<len(mat1) and x[1]<=len(mat1)):\n",
    "        temp.append(x)"
   ]
  },
  {
   "cell_type": "code",
   "execution_count": 52,
   "metadata": {},
   "outputs": [
    {
     "data": {
      "text/plain": [
       "[(0, 3), (1, 4), (2, 5), (3, 6)]"
      ]
     },
     "execution_count": 52,
     "metadata": {},
     "output_type": "execute_result"
    }
   ],
   "source": [
    "sub_range = temp\n",
    "sub_range"
   ]
  },
  {
   "cell_type": "code",
   "execution_count": 53,
   "metadata": {},
   "outputs": [],
   "source": [
    "sub_mat = []\n",
    "\n",
    "for col in sub_range:\n",
    "    for row in sub_range:\n",
    "        sub_mat.append(mat1[row[0]:row[1],col[0]:col[1]])"
   ]
  },
  {
   "cell_type": "code",
   "execution_count": null,
   "metadata": {},
   "outputs": [],
   "source": [
    "sub_mat"
   ]
  },
  {
   "cell_type": "code",
   "execution_count": 57,
   "metadata": {},
   "outputs": [
    {
     "data": {
      "text/plain": [
       "array([[ 80,  80, 160],\n",
       "       [ 80,  80, 158],\n",
       "       [ 85,  85, 164]])"
      ]
     },
     "execution_count": 57,
     "metadata": {},
     "output_type": "execute_result"
    }
   ],
   "source": [
    "sum = 0\n",
    "for i in range(len(sub_mat)):\n",
    "    sum += np.dot(sub_mat[i],mat2)\n",
    "sum"
   ]
  },
  {
   "cell_type": "code",
   "execution_count": 61,
   "metadata": {},
   "outputs": [],
   "source": [
    "def convolute(parent,conv_filter):\n",
    "    sub_range=[]\n",
    "    sub_mat = []\n",
    "    temp = []\n",
    "    sum = 0\n",
    "    \n",
    "    conv_filter = len(conv_filter)\n",
    "    iter = 0\n",
    "    for i in range(len(parent)):\n",
    "        sub_range.append((iter,iter+conv_filter))\n",
    "        iter += 1\n",
    "    \n",
    "    for x in sub_range:\n",
    "        if(x[0]<len(mat1) and x[1]<=len(mat1)):\n",
    "            temp.append(x)\n",
    "    sub_range = temp\n",
    "    \n",
    "    for col in sub_range:\n",
    "        for row in sub_range:\n",
    "            sub_mat.append([mat1[row[0]:row[1],col[0]:col[1]]])\n",
    "    \n",
    "    for i in range(len(sub_mat)):\n",
    "        sum += np.dot(sub_mat[i],mat2)\n",
    "        \n",
    "    return sum    \n",
    "    "
   ]
  },
  {
   "cell_type": "code",
   "execution_count": 74,
   "metadata": {},
   "outputs": [
    {
     "data": {
      "text/plain": [
       "array([[[814, 406, 810],\n",
       "        [823, 410, 817],\n",
       "        [810, 404, 797]]])"
      ]
     },
     "execution_count": 74,
     "metadata": {},
     "output_type": "execute_result"
    }
   ],
   "source": [
    "convolute(mat1,mat2)"
   ]
  }
 ],
 "metadata": {
  "interpreter": {
   "hash": "95c10dbc6f7eccef0c1ace84822d618f7863d3bc26cab307fc0169bb43c23fbe"
  },
  "kernelspec": {
   "display_name": "Python 3.8.5 ('base')",
   "language": "python",
   "name": "python3"
  },
  "language_info": {
   "codemirror_mode": {
    "name": "ipython",
    "version": 3
   },
   "file_extension": ".py",
   "mimetype": "text/x-python",
   "name": "python",
   "nbconvert_exporter": "python",
   "pygments_lexer": "ipython3",
   "version": "3.8.5"
  },
  "orig_nbformat": 4
 },
 "nbformat": 4,
 "nbformat_minor": 2
}
