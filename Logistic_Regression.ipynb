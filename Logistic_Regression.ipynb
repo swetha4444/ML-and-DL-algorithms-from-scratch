{
  "nbformat": 4,
  "nbformat_minor": 0,
  "metadata": {
    "colab": {
      "name": "Logistic Regression.ipynb",
      "provenance": []
    },
    "kernelspec": {
      "name": "python3",
      "display_name": "Python 3"
    },
    "language_info": {
      "name": "python"
    }
  },
  "cells": [
    {
      "cell_type": "code",
      "metadata": {
        "id": "dRhAIR5VxPgh"
      },
      "source": [
        "import numpy as np\n",
        "from sklearn.model_selection import train_test_split\n",
        "from sklearn import datasets\n",
        "import matplotlib.pyplot as plt"
      ],
      "execution_count": 7,
      "outputs": []
    },
    {
      "cell_type": "code",
      "metadata": {
        "id": "rW2lmiNR2w__"
      },
      "source": [
        "class LogicalRegression:\n",
        "  def __init__(self,lr=0.001,iters=1000):\n",
        "    self.lr = lr\n",
        "    self.iters = iters\n",
        "    self.weights = None\n",
        "    self.bias = None\n",
        "  \n",
        "  def fit(self,X,y): #X=MxN (M rows N features)\n",
        "    n_samples, n_features = X.shape\n",
        "    self.weight = np.zeroes(n_features)\n",
        "    self.bias = 0\n",
        "\n",
        "    #gradient descent\n",
        "    for _ in range(self.iters):\n",
        "      linear_model = np.dot(X,self.weights)+self.bias     #f(w,b)=w*x+b\n",
        "      y_pred = self.sigmoid(linear_model) #aproximation of y\n",
        "\n",
        "      #update weights\n",
        "      dw = (1/n_samples)*np.dot(X.T,(y_pred-y))\n",
        "      db = (1/n_samples)*np.sum(y_pred-y)\n",
        "      self.weights -= self.lr*dw\n",
        "      self.bias -= self.lr*db\n",
        "\n",
        "  \n",
        "  def predict(self,X):\n",
        "    linear_model = np.dot(X,self.weights)+self.bias     #f(w,b)=w*x+b\n",
        "    y_pred = self.sigmoid(linear_model) #aproximation of y\n",
        "    y_pred_class = [1 if i>0.5 else 0 for i in y_pred] #assign classes based on probablity\n",
        "    return y_pred_class\n",
        "\n",
        "  def sigmoid(self,x): #apply sigmoid to get probablity\n",
        "    return 1/(1+np.exp(-x))\n"
      ],
      "execution_count": 6,
      "outputs": []
    },
    {
      "cell_type": "code",
      "metadata": {
        "colab": {
          "base_uri": "https://localhost:8080/"
        },
        "id": "8AQP1BEM56Sx",
        "outputId": "95859cce-b0b8-4d67-a7de-f7b602f00001"
      },
      "source": [
        "def accuracy(y_true, y_pred):\n",
        "    accuracy = np.sum(y_true == y_pred) / len(y_true)\n",
        "    return accuracy\n",
        "\n",
        "bc = datasets.load_breast_cancer()\n",
        "X, y = bc.data, bc.target\n",
        "\n",
        "X_train, X_test, y_train, y_test = train_test_split(X, y, test_size=0.2, random_state=1234)\n",
        "\n",
        "regressor = LogisticRegression(learning_rate=0.0001, n_iters=1000)\n",
        "regressor.fit(X_train, y_train)\n",
        "predictions = regressor.predict(X_test)\n",
        "\n",
        "print(\"LR classification accuracy:\", accuracy(y_test, predictions))"
      ],
      "execution_count": 8,
      "outputs": [
        {
          "output_type": "stream",
          "text": [
            "LR classification accuracy: 0.9298245614035088\n"
          ],
          "name": "stdout"
        }
      ]
    },
    {
      "cell_type": "code",
      "metadata": {
        "colab": {
          "base_uri": "https://localhost:8080/"
        },
        "id": "rBFkDAJu69RH",
        "outputId": "05fd4573-8f73-40d6-9de0-58da58f7bb74"
      },
      "source": [
        "bc.data"
      ],
      "execution_count": 14,
      "outputs": [
        {
          "output_type": "execute_result",
          "data": {
            "text/plain": [
              "array([[1.799e+01, 1.038e+01, 1.228e+02, ..., 2.654e-01, 4.601e-01,\n",
              "        1.189e-01],\n",
              "       [2.057e+01, 1.777e+01, 1.329e+02, ..., 1.860e-01, 2.750e-01,\n",
              "        8.902e-02],\n",
              "       [1.969e+01, 2.125e+01, 1.300e+02, ..., 2.430e-01, 3.613e-01,\n",
              "        8.758e-02],\n",
              "       ...,\n",
              "       [1.660e+01, 2.808e+01, 1.083e+02, ..., 1.418e-01, 2.218e-01,\n",
              "        7.820e-02],\n",
              "       [2.060e+01, 2.933e+01, 1.401e+02, ..., 2.650e-01, 4.087e-01,\n",
              "        1.240e-01],\n",
              "       [7.760e+00, 2.454e+01, 4.792e+01, ..., 0.000e+00, 2.871e-01,\n",
              "        7.039e-02]])"
            ]
          },
          "metadata": {
            "tags": []
          },
          "execution_count": 14
        }
      ]
    },
    {
      "cell_type": "code",
      "metadata": {
        "colab": {
          "base_uri": "https://localhost:8080/",
          "height": 283
        },
        "id": "gspBz7vn6Vyh",
        "outputId": "80559927-2f2b-44c6-cc4c-f4479880791c"
      },
      "source": [
        "plt.scatter([i for i in range(len(X_test))],predictions)"
      ],
      "execution_count": 15,
      "outputs": [
        {
          "output_type": "execute_result",
          "data": {
            "text/plain": [
              "<matplotlib.collections.PathCollection at 0x7f2846804310>"
            ]
          },
          "metadata": {
            "tags": []
          },
          "execution_count": 15
        },
        {
          "output_type": "display_data",
          "data": {
            "image/png": "[encoded data removed]",
            "text/plain": [
              "<Figure size 432x288 with 1 Axes>"
            ]
          },
          "metadata": {
            "tags": [],
            "needs_background": "light"
          }
        }
      ]
    }
  ]
}